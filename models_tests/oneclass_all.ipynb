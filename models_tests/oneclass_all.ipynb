{
 "cells": [
  {
   "cell_type": "code",
   "execution_count": 1,
   "metadata": {},
   "outputs": [
    {
     "name": "stderr",
     "output_type": "stream",
     "text": [
      "C:\\Users\\LeonardoBortoni\\AppData\\Local\\Temp\\ipykernel_20440\\2531079614.py:1: DeprecationWarning: \n",
      "Pyarrow will become a required dependency of pandas in the next major release of pandas (pandas 3.0),\n",
      "(to allow more performant data types, such as the Arrow string type, and better interoperability with other libraries)\n",
      "but was not found to be installed on your system.\n",
      "If this would cause problems for you,\n",
      "please provide us feedback at https://github.com/pandas-dev/pandas/issues/54466\n",
      "        \n",
      "  import pandas as pd\n"
     ]
    },
    {
     "name": "stdout",
     "output_type": "stream",
     "text": [
      "Val: \n",
      "\n",
      "tnr_mean: 0.8875\n",
      "tnr_std: 0.14683089329051227\n",
      "recall_mean: 0.5129456508403878\n",
      "recall_std: 0.029692603251083086\n",
      "\n",
      "Test:\n",
      "\n",
      "tnr_mean: 0.8766025641025641\n",
      "tnr_std: 0.12556373538428797\n",
      "recall_mean: 0.5120931003980539\n",
      "recall_std: 0.007669900071355162\n",
      "\n"
     ]
    }
   ],
   "source": [
    "import pandas as pd\n",
    "import numpy as np\n",
    "from sklearn.preprocessing import StandardScaler\n",
    "from sklearn.model_selection import StratifiedKFold\n",
    "from sklearn import metrics\n",
    "from sklearn.svm import OneClassSVM\n",
    "from train_eval_engine import train_eval\n",
    "\n",
    "\n",
    "def eval_oneclass(model, eval_features, eval_target):\n",
    "    pred = model.predict(eval_features)\n",
    "    pred[pred == 1] = 0\n",
    "    pred[pred == -1] = 1\n",
    "    tn, fp, fn, tp = metrics.confusion_matrix(eval_target, pred).ravel()\n",
    "    tnr = tn / float(tn + fp)\n",
    "    recall = tp / float(tp + fn)\n",
    "    return tnr, recall\n",
    "\n",
    "\n",
    "if __name__ == \"__main__\":\n",
    "    dataset = pd.read_csv(\"stat_dataset.csv\", header=None).to_numpy()\n",
    "    features = dataset[:, :-1]\n",
    "    target = dataset[:, -1].astype(int)\n",
    "\n",
    "    sc = StandardScaler()\n",
    "    features[:, :] = sc.fit_transform(features[:, :])\n",
    "\n",
    "    model_class = OneClassSVM\n",
    "    model_parameters = {\"kernel\": \"rbf\", \"nu\": 0.5}\n",
    "\n",
    "    train_eval(model_parameters, model_class, features, target, eval_oneclass)\n"
   ]
  }
 ],
 "metadata": {
  "kernelspec": {
   "display_name": "ml-env",
   "language": "python",
   "name": "python3"
  },
  "language_info": {
   "codemirror_mode": {
    "name": "ipython",
    "version": 3
   },
   "file_extension": ".py",
   "mimetype": "text/x-python",
   "name": "python",
   "nbconvert_exporter": "python",
   "pygments_lexer": "ipython3",
   "version": "3.11.5"
  }
 },
 "nbformat": 4,
 "nbformat_minor": 2
}
