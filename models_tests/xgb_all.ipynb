{
 "cells": [
  {
   "cell_type": "code",
   "execution_count": 1,
   "metadata": {},
   "outputs": [
    {
     "name": "stderr",
     "output_type": "stream",
     "text": [
      "C:\\Users\\LeonardoBortoni\\AppData\\Local\\Temp\\ipykernel_20332\\4186959875.py:1: DeprecationWarning: \n",
      "Pyarrow will become a required dependency of pandas in the next major release of pandas (pandas 3.0),\n",
      "(to allow more performant data types, such as the Arrow string type, and better interoperability with other libraries)\n",
      "but was not found to be installed on your system.\n",
      "If this would cause problems for you,\n",
      "please provide us feedback at https://github.com/pandas-dev/pandas/issues/54466\n",
      "        \n",
      "  import pandas as pd\n"
     ]
    },
    {
     "name": "stdout",
     "output_type": "stream",
     "text": [
      "Val: \n",
      "\n",
      "tnr_mean: 0.7267857142857143\n",
      "tnr_std: 0.1641595012076203\n",
      "recall_mean: 0.9998245614035088\n",
      "recall_std: 0.000764719112901875\n",
      "\n",
      "Test:\n",
      "\n",
      "tnr_mean: 0.7932692307692307\n",
      "tnr_std: 0.17298044557012332\n",
      "recall_mean: 1.0\n",
      "recall_std: 0.0\n",
      "\n"
     ]
    }
   ],
   "source": [
    "import pandas as pd\n",
    "import numpy as np\n",
    "from sklearn.preprocessing import StandardScaler\n",
    "from sklearn.model_selection import StratifiedKFold\n",
    "from sklearn import metrics\n",
    "import xgboost as xgb\n",
    "from train_eval_engine import train_eval\n",
    "\n",
    "if __name__ == \"__main__\":\n",
    "    dataset = pd.read_csv(\"stat_dataset.csv\", header=None).to_numpy()\n",
    "    features = dataset[:, :-1]\n",
    "    target = dataset[:, -1].astype(int)\n",
    "\n",
    "    sc = StandardScaler()\n",
    "    features[:, :] = sc.fit_transform(features[:, :])\n",
    "\n",
    "    model_class = xgb.XGBClassifier\n",
    "    model_parameters = {\"random_state\": 0}\n",
    "\n",
    "    train_eval(model_parameters, model_class, features, target)\n"
   ]
  }
 ],
 "metadata": {
  "kernelspec": {
   "display_name": "ml-env",
   "language": "python",
   "name": "python3"
  },
  "language_info": {
   "codemirror_mode": {
    "name": "ipython",
    "version": 3
   },
   "file_extension": ".py",
   "mimetype": "text/x-python",
   "name": "python",
   "nbconvert_exporter": "python",
   "pygments_lexer": "ipython3",
   "version": "3.11.5"
  }
 },
 "nbformat": 4,
 "nbformat_minor": 2
}
