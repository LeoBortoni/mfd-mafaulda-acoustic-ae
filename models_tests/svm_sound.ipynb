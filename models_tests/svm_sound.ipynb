{
 "cells": [
  {
   "cell_type": "code",
   "execution_count": 2,
   "metadata": {},
   "outputs": [
    {
     "name": "stdout",
     "output_type": "stream",
     "text": [
      "Val: \n",
      "\n",
      "tnr_mean: 0.0\n",
      "tnr_std: 0.0\n",
      "recall_mean: 1.0\n",
      "recall_std: 0.0\n",
      "\n",
      "Test:\n",
      "\n",
      "tnr_mean: 0.0\n",
      "tnr_std: 0.0\n",
      "recall_mean: 1.0\n",
      "recall_std: 0.0\n",
      "\n"
     ]
    }
   ],
   "source": [
    "import pandas as pd\n",
    "import numpy as np\n",
    "from sklearn.preprocessing import StandardScaler\n",
    "from sklearn.model_selection import StratifiedKFold\n",
    "from sklearn import metrics\n",
    "from sklearn.svm import SVC\n",
    "from train_eval_engine import train_eval\n",
    "\n",
    "if __name__ == \"__main__\":\n",
    "    dataset = pd.read_csv(\"stat_dataset.csv\", header=None).to_numpy()\n",
    "    features = dataset[:, -14:-1]\n",
    "    target = dataset[:, -1].astype(int)\n",
    "\n",
    "    sc = StandardScaler()\n",
    "    features[:, :] = sc.fit_transform(features[:, :])\n",
    "\n",
    "    model_class = SVC\n",
    "    model_parameters = {\"kernel\": \"linear\", \"random_state\": 0}\n",
    "\n",
    "    train_eval(model_parameters, model_class, features, target)\n"
   ]
  }
 ],
 "metadata": {
  "kernelspec": {
   "display_name": "ml-env",
   "language": "python",
   "name": "python3"
  },
  "language_info": {
   "codemirror_mode": {
    "name": "ipython",
    "version": 3
   },
   "file_extension": ".py",
   "mimetype": "text/x-python",
   "name": "python",
   "nbconvert_exporter": "python",
   "pygments_lexer": "ipython3",
   "version": "3.11.5"
  }
 },
 "nbformat": 4,
 "nbformat_minor": 2
}
