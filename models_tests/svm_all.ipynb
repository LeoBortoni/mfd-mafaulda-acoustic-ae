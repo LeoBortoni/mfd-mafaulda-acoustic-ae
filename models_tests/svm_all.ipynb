{
 "cells": [
  {
   "cell_type": "code",
   "execution_count": 1,
   "metadata": {},
   "outputs": [
    {
     "name": "stderr",
     "output_type": "stream",
     "text": [
      "C:\\Users\\LeonardoBortoni\\AppData\\Local\\Temp\\ipykernel_7280\\652898320.py:1: DeprecationWarning: \n",
      "Pyarrow will become a required dependency of pandas in the next major release of pandas (pandas 3.0),\n",
      "(to allow more performant data types, such as the Arrow string type, and better interoperability with other libraries)\n",
      "but was not found to be installed on your system.\n",
      "If this would cause problems for you,\n",
      "please provide us feedback at https://github.com/pandas-dev/pandas/issues/54466\n",
      "        \n",
      "  import pandas as pd\n"
     ]
    },
    {
     "name": "stdout",
     "output_type": "stream",
     "text": [
      "Val: \n",
      "\n",
      "tnr_mean: 0.557142857142857\n",
      "tnr_std: 0.19615240326369301\n",
      "recall_mean: 0.9963188565820145\n",
      "recall_std: 0.004217534215321649\n",
      "\n",
      "Test:\n",
      "\n",
      "tnr_mean: 0.5913461538461539\n",
      "tnr_std: 0.06053790630616699\n",
      "recall_mean: 0.9978980539584255\n",
      "recall_std: 0.002572994140033708\n",
      "\n",
      "[0.5, 0.8571428571428571, 0.5714285714285714, 0.7142857142857143, 0.5714285714285714, 0.375, 0.75, 0.5714285714285714, 0.8571428571428571, 0.5714285714285714, 0.5, 0.625, 0.42857142857142855, 0.2857142857142857, 0.0, 0.5, 0.75, 0.42857142857142855, 0.7142857142857143, 0.5714285714285714]\n",
      "[0.9929824561403509, 0.993006993006993, 1.0, 0.9964912280701754, 1.0, 1.0, 1.0, 1.0, 0.9964912280701754, 0.9859649122807017, 0.9929824561403509, 0.9894736842105263, 1.0, 1.0, 0.9964912280701754, 0.9964912280701754, 1.0, 0.9895104895104895, 1.0, 0.9964912280701754]\n",
      "[0.6153846153846154, 0.6666666666666666, 0.5833333333333334, 0.5]\n",
      "[0.9978947368421053, 0.9936974789915967, 1.0, 1.0]\n"
     ]
    }
   ],
   "source": [
    "import pandas as pd\n",
    "import numpy as np\n",
    "from sklearn.preprocessing import StandardScaler\n",
    "from sklearn.model_selection import StratifiedKFold\n",
    "from sklearn import metrics\n",
    "from sklearn.svm import SVC\n",
    "from train_eval_engine import train_eval\n",
    "\n",
    "if __name__ == \"__main__\":\n",
    "    dataset = pd.read_csv(\"stat_dataset.csv\", header=None).to_numpy()\n",
    "    features = dataset[:, :-1]\n",
    "    target = dataset[:, -1].astype(int)\n",
    "\n",
    "    sc = StandardScaler()\n",
    "    features[:, :] = sc.fit_transform(features[:, :])\n",
    "\n",
    "    model_class = SVC\n",
    "    model_parameters = {\"kernel\": \"linear\", \"random_state\": 0}\n",
    "\n",
    "    train_eval(model_parameters, model_class, features, target)\n"
   ]
  }
 ],
 "metadata": {
  "kernelspec": {
   "display_name": "ml-env",
   "language": "python",
   "name": "python3"
  },
  "language_info": {
   "codemirror_mode": {
    "name": "ipython",
    "version": 3
   },
   "file_extension": ".py",
   "mimetype": "text/x-python",
   "name": "python",
   "nbconvert_exporter": "python",
   "pygments_lexer": "ipython3",
   "version": "3.11.5"
  }
 },
 "nbformat": 4,
 "nbformat_minor": 2
}
